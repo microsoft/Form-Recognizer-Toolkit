{
 "cells": [
  {
   "cell_type": "markdown",
   "metadata": {},
   "source": [
    "# Disambiguate similar characters\n",
    "\n",
    "This sample demonstrates how to use business rules to disambiguate characters that could be confused with the input string due to similar looking characters.\n",
    "\n",
    "The script defines a dictionary of characters that can be easily confused with each other, such as '0' and 'O', '1', 'I', and 'l'. It then uses a recursive function to generate all possible combinations of the input string with these confusing characters replaced.\n",
    "\n",
    "This script could be useful in a variety of contexts, such as testing the robustness of a system against confusing inputs, or in a data cleaning process where similar looking characters need to be disambiguated."
   ]
  },
  {
   "cell_type": "code",
   "execution_count": 1,
   "metadata": {},
   "outputs": [],
   "source": [
    "import re\n",
    "\n",
    "# Function to generate strings that can be confusing due to similar looking characters\n",
    "def generate_confusing_strings(input_string):\n",
    "    # Define a dictionary of characters that can be confusing\n",
    "    confusing_chars = {\n",
    "        '0': ['O'],\n",
    "        'O': ['0'],\n",
    "        '1': ['I', 'l'],\n",
    "        'I': ['1', 'l'],\n",
    "        'l': ['1', 'I']\n",
    "    }\n",
    "    \n",
    "    result = [input_string]\n",
    "\n",
    "    # Recursive function to generate all combinations of confusing strings\n",
    "    def generate_combinations(input_str, index, current_combination):\n",
    "        # If we have processed all characters in the string, add the current combination to the result\n",
    "        if index == len(input_str):\n",
    "            result.append(current_combination)\n",
    "            return\n",
    "\n",
    "        char = input_str[index]\n",
    "        if char in confusing_chars:\n",
    "            replacements = confusing_chars[char]\n",
    "            for replacement in replacements:\n",
    "                new_combination = current_combination[:index] + replacement + current_combination[index+1:]\n",
    "                generate_combinations(input_str, index+1, new_combination)\n",
    "        else:\n",
    "            # If the current character is not in the confusing characters dictionary, just move on to the next character\n",
    "            generate_combinations(input_str, index+1, current_combination)\n",
    "\n",
    "    generate_combinations(input_string, 0, input_string)\n",
    "    return result"
   ]
  },
  {
   "cell_type": "code",
   "execution_count": 7,
   "metadata": {},
   "outputs": [],
   "source": [
    "# The function returns True if the code is a valid ICD-10 code and False otherwise. It can be replaced with other business rules in your scenario.\n",
    "def verify_icd10_code(code):\n",
    "    # Define a regular expression pattern for ICD-10 codes. An ICD-10 code is the 10th revision of the International Statistical Classification of Diseases and Related Health Problems (ICD), a medical classification list by the World Health Organization (WHO).\n",
    "    # The pattern should start with a letter from A to Z (excluding U), followed by two digits.\n",
    "    # After that, there may be a decimal point followed by one or two digits.\n",
    "    # The pattern should match the entire string (^ and $ denote the start and end of the string, respectively).\n",
    "    pattern = r'^[A-TV-Z]\\d\\d(\\.\\d{1,2})?$'\n",
    "    \n",
    "    return re.match(pattern, code) is not None"
   ]
  },
  {
   "cell_type": "code",
   "execution_count": null,
   "metadata": {},
   "outputs": [],
   "source": [
    "# Take input from the user\n",
    "input_string = \"126.99\"\n",
    "\n",
    "# Generate confusing strings\n",
    "confusing_strings = generate_confusing_strings(input_string)\n",
    "print(confusing_strings)\n",
    "\n",
    "# Verify if any of the generated strings are ICD-10 codes\n",
    "icd10_codes = [code for code in confusing_strings if verify_icd10_code(code)]\n",
    "\n",
    "if icd10_codes:\n",
    "    print(\"Generated ICD-10 codes:\")\n",
    "    for code in icd10_codes:\n",
    "        print(code)\n",
    "        \n",
    "# if there are more than 1 possibility or no possible ICD-10 code, call Human-in-the-loop\n",
    "else:\n",
    "    print(\"No valid ICD-10 codes generated.\")\n"
   ]
  }
 ],
 "metadata": {
  "kernelspec": {
   "display_name": "Python 3",
   "language": "python",
   "name": "python3"
  },
  "language_info": {
   "codemirror_mode": {
    "name": "ipython",
    "version": 3
   },
   "file_extension": ".py",
   "mimetype": "text/x-python",
   "name": "python",
   "nbconvert_exporter": "python",
   "pygments_lexer": "ipython3",
   "version": "3.10.13"
  },
  "orig_nbformat": 4
 },
 "nbformat": 4,
 "nbformat_minor": 2
}
